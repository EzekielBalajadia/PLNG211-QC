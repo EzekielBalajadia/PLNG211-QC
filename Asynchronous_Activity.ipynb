{
  "nbformat": 4,
  "nbformat_minor": 0,
  "metadata": {
    "colab": {
      "provenance": [],
      "authorship_tag": "ABX9TyMa0Md+/ncC1ZaPgAiMGgYm",
      "include_colab_link": true
    },
    "kernelspec": {
      "name": "python3",
      "display_name": "Python 3"
    },
    "language_info": {
      "name": "python"
    }
  },
  "cells": [
    {
      "cell_type": "markdown",
      "metadata": {
        "id": "view-in-github",
        "colab_type": "text"
      },
      "source": [
        "<a href=\"https://colab.research.google.com/github/EzekielBalajadia/PLNG211-QC/blob/main/Asynchronous_Activity.ipynb\" target=\"_parent\"><img src=\"https://colab.research.google.com/assets/colab-badge.svg\" alt=\"Open In Colab\"/></a>"
      ]
    },
    {
      "cell_type": "code",
      "execution_count": 11,
      "metadata": {
        "colab": {
          "base_uri": "https://localhost:8080/"
        },
        "id": "IlJX_OGbe45c",
        "outputId": "6d302c55-c42c-4ea2-8f5d-65e3ba8f2976"
      },
      "outputs": [
        {
          "output_type": "stream",
          "name": "stdout",
          "text": [
            "Net Pay:  6300.0\n"
          ]
        }
      ],
      "source": [
        "#Asynchronous Activity\n",
        "\n",
        "Salary_rate = 600 #day\n",
        "Salary = Salary_rate * 15 #number of days\n",
        "Taxable_amount = 0.3  * Salary  #percent of the salary)\n",
        "Net_pay = Salary - Taxable_amount\n",
        "\n",
        "print(\"Net Pay: \",Net_pay)"
      ]
    }
  ]
}