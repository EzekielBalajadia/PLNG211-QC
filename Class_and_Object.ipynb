{
  "nbformat": 4,
  "nbformat_minor": 0,
  "metadata": {
    "colab": {
      "provenance": [],
      "authorship_tag": "ABX9TyPDtEJVBvcvS+XYoz3Ev1lj",
      "include_colab_link": true
    },
    "kernelspec": {
      "name": "python3",
      "display_name": "Python 3"
    },
    "language_info": {
      "name": "python"
    }
  },
  "cells": [
    {
      "cell_type": "markdown",
      "metadata": {
        "id": "view-in-github",
        "colab_type": "text"
      },
      "source": [
        "<a href=\"https://colab.research.google.com/github/EzekielBalajadia/PLNG211-QC/blob/main/Class_and_Object.ipynb\" target=\"_parent\"><img src=\"https://colab.research.google.com/assets/colab-badge.svg\" alt=\"Open In Colab\"/></a>"
      ]
    },
    {
      "cell_type": "code",
      "execution_count": 3,
      "metadata": {
        "colab": {
          "base_uri": "https://localhost:8080/"
        },
        "id": "eGggVa3Crt-B",
        "outputId": "d261547c-0961-4f00-d79e-e4e09c67e8fe"
      },
      "outputs": [
        {
          "output_type": "stream",
          "name": "stdout",
          "text": [
            "The name of the person is: Ana\n",
            "The age of the person is: 36\n"
          ]
        }
      ],
      "source": [
        "class Person:\n",
        "  def __init__(self,name,age):\n",
        "    self.name = name\n",
        "    self.age = age\n",
        "\n",
        "  def Name(self,name):\n",
        "    print(\"The person is\"+self.name)\n",
        "\n",
        "person1 = Person(\"Ana\",36)\n",
        "print(\"The name of the person is:\",person1.name)\n",
        "print(\"The age of the person is:\",person1.age)"
      ]
    },
    {
      "cell_type": "code",
      "source": [
        "class Person:\n",
        "  def __init__(self,name,age):\n",
        "    self.name = name              #attributes\n",
        "    self.age = age\n",
        "class Student(Person):\n",
        "  pass\n",
        "\n",
        "class Teacher(Person):\n",
        "  pass\n",
        "person1 = Person(\"Ana\",36)      #instantiation/add a value to an attribute\n",
        "print(\"The name of the person is:\",person1.name)\n",
        "print(\"The age of the person is:\",person1.age)\n",
        "\n",
        "person2 = Student(\"Lino\",32)    #inheritance\n",
        "print(\"The name of the person is:\",person2.name)\n",
        "print(\"The age of the person is:\",person2.age)\n",
        "\n",
        "person3 = Teacher(\"Maria\",39)\n",
        "print(\"The name of the person is:\",person3.name)\n",
        "print(\"The age of the person is:\",person3.age)"
      ],
      "metadata": {
        "colab": {
          "base_uri": "https://localhost:8080/"
        },
        "id": "4IpaMfRktyAL",
        "outputId": "b494d355-5334-46fc-a9c6-ab947a41a31f"
      },
      "execution_count": 6,
      "outputs": [
        {
          "output_type": "stream",
          "name": "stdout",
          "text": [
            "The name of the person is: Ana\n",
            "The age of the person is: 36\n",
            "The name of the person is: Lino\n",
            "The age of the person is: 32\n",
            "The name of the person is: Maria\n",
            "The age of the person is: 39\n"
          ]
        }
      ]
    },
    {
      "cell_type": "code",
      "source": [
        "#Application 1. Write a rectangle class in Python language with length and width as attributes\n",
        "#Create a perimeter() and area() as methods to compute for the perimeter and are of a rectangle\n",
        "\n",
        "class rectangle():\n",
        "  def __init__(rec,width,length):\n",
        "    rec.width = width\n",
        "    rec.length = length\n",
        "\n",
        "  def perimeter(rec):\n",
        "    return (rec.width + rec.length) * 2\n",
        "\n",
        "  def area(rec):\n",
        "    return rec.width * rec.length\n",
        "\n",
        "recWidth = int(input(\"Enter width of rectangle: \"))\n",
        "recLength = int(input(\"Enter length of rectangle: \"))\n",
        "\n",
        "recAreaPerimeter = rectangle(recWidth, recLength)\n",
        "\n",
        "print(\"The area of rectangle is: \",recAreaPerimeter.area())\n",
        "print(\"The perimeter of rectangle is: \",recAreaPerimeter.perimeter())"
      ],
      "metadata": {
        "colab": {
          "base_uri": "https://localhost:8080/"
        },
        "id": "_WeqEuZ1wEK8",
        "outputId": "32a7ca62-4e19-4fe9-e96c-1d9b968bab75"
      },
      "execution_count": 8,
      "outputs": [
        {
          "output_type": "stream",
          "name": "stdout",
          "text": [
            "Enter width of rectangle: 5\n",
            "Enter length of rectangle: 7\n",
            "The area of rectangle is:  35\n",
            "The perimeter of rectangle is:  24\n"
          ]
        }
      ]
    }
  ]
}